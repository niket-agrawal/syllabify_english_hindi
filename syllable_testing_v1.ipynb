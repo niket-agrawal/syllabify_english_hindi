{
 "cells": [
  {
   "cell_type": "markdown",
   "id": "bc10a94d-ca91-4b09-8fa1-a1f6d8a003a8",
   "metadata": {},
   "source": [
    "# Benchmarking English syllabification methods\n",
    "\n",
    "**There exists mainly 4 categories of methods:**\n",
    "- Dictionary searches, e.g. CMU dic\n",
    "- Hyphenation methods, e.g. PyHyphen - https://www.tug.org/docs/liang/liang-thesis.pdf\n",
    "- ML based approaches, non explanability\n",
    "- Rule based approaches, fast but might be inaccurate, e.g. Sonority Sequencing by nltk\n",
    "\n",
    "**We have tested the following packages and libraries:**\n",
    "- `nltk` **sonority** based and **cmu** dict\n",
    "- `indic` lib (moulshree)\n",
    "- hyphenation libraries, `pyphen` and `hyphenate`\n",
    "- `spacy` machine learning models, **spacy_syllable** and **nlp pipeline**\n",
    "- machine learning models, `meow25` and `bigphoney`\n",
    "- user contributions, `basirico`, `anonuser1`, `abigailb`, `hauntninja` and `tarun`\n",
    "- misc libs, `syllapy` and `syllables`\n",
    "\n",
    "**Some packages syllabify and count, others just count syllables:**\n",
    "\n",
    "| **Method Type**             | **Implementation Type** | **Implementation Name**       |\n",
    "|-----------------------------|-------------------------|-------------------------------|\n",
    "| **Syllabification + Count** | Library                 | nltk (sonority-based)         |\n",
    "|                             |                         | indic lib                     |\n",
    "|                             | Hyphenation Library     | pyphen                        |\n",
    "|                             |                         | hyphenate                     |\n",
    "|                             | Machine Learning Model  | spaCy syllable                |\n",
    "|                             |                         | spaCy nlp (same little faster)|\n",
    "| **Count Only**              | User Contributed        | basirico                      |\n",
    "|                             |                         | anonuser1                     |\n",
    "|                             |                         | abigailb                      |\n",
    "|                             |                         | hauntninja                    |\n",
    "|                             |                         | tarun – sylco                 |\n",
    "|                             | Library                 | nltk (cmudict)                |\n",
    "|                             |                         | syllapy                       |\n",
    "|                             |                         | syllables                     |\n",
    "|                             | Machine Learning Model  | meow25                        |\n",
    "|                             |                         | bigphoney                     |\n",
    "\n",
    "\n",
    "\n",
    "\n",
    "\n",
    "**To be implemented:**\n",
    "- Gold standard is dictionary (human intervention)\n",
    "- Web based approach, apis etc. (https://stackoverflow.com/questions/10414957/using-python-to-find-syllables/10416028#10416028)\n",
    "     - https://www.howmanysyllables.com/syllables/table\n",
    "     - https://www.wordcalc.com/index.php"
   ]
  },
  {
   "cell_type": "markdown",
   "id": "38c72b67-cae6-422d-a88c-6e72bbedb28d",
   "metadata": {
    "jp-MarkdownHeadingCollapsed": true
   },
   "source": [
    "### 1. Imports for library and packages (ignore)"
   ]
  },
  {
   "cell_type": "code",
   "execution_count": 11,
   "id": "d2ebf6fb-6a49-49e1-bd43-7aa879da0d09",
   "metadata": {},
   "outputs": [],
   "source": [
    "import syll_libraries_niket as syll_functs\n",
    "import nltk\n",
    "import time, os\n",
    "import pandas as pd"
   ]
  },
  {
   "cell_type": "code",
   "execution_count": 12,
   "id": "50f26dc7-5032-4baa-8d09-6caefe4565ea",
   "metadata": {},
   "outputs": [
    {
     "data": {
      "text/html": [
       "\n",
       "<style>\n",
       "table {\n",
       "    margin-left: 0 !important;\n",
       "    margin-right: auto !important;\n",
       "}\n",
       "</style>\n"
      ],
      "text/plain": [
       "<IPython.core.display.HTML object>"
      ]
     },
     "execution_count": 12,
     "metadata": {},
     "output_type": "execute_result"
    }
   ],
   "source": [
    "# Center the table for markdown cells\n",
    "from IPython.core.display import HTML\n",
    "HTML(\"\"\"\n",
    "<style>\n",
    "table {\n",
    "    margin-left: 0 !important;\n",
    "    margin-right: auto !important;\n",
    "}\n",
    "</style>\n",
    "\"\"\")"
   ]
  },
  {
   "cell_type": "markdown",
   "id": "028a85dc-3491-40c7-8e2c-5229f0a2cabb",
   "metadata": {
    "jp-MarkdownHeadingCollapsed": true
   },
   "source": [
    "### 2. Add word list for benchmarking"
   ]
  },
  {
   "cell_type": "markdown",
   "id": "46861ee9-9b2e-4608-a7c1-61198ae5916c",
   "metadata": {},
   "source": [
    "Tried to add some hard words too. Find more words that diverge from each other\n",
    "\n",
    "| Word        | Syllabification | Syllable Count |\n",
    "|-------------|------------------|----------------|\n",
    "| usually     | u-su-al-ly       | 4              |\n",
    "| amsterdam   | am-ster-dam      | 3              |\n",
    "| latika      | la-ti-ka         | 3              |\n",
    "| table       | ta-ble           | 2              |\n",
    "| passing     | pass-ing         | 2              |\n",
    "| contest     | con-test         | 2              |\n",
    "| conflict    | con-flict        | 2              |\n",
    "| construct   | con-struct       | 2              |\n",
    "| table       | ta-ble           | 2              |\n",
    "| lion        | li-on            | 2              |"
   ]
  },
  {
   "cell_type": "markdown",
   "id": "1daf0e7f-f008-4448-8482-37cdb3725261",
   "metadata": {},
   "source": [
    "### 3. Now bechmark: on number of syllables"
   ]
  },
  {
   "cell_type": "markdown",
   "id": "cfc1b93e-b05a-4265-8bd2-2cbacf61e9b4",
   "metadata": {
    "jp-MarkdownHeadingCollapsed": true
   },
   "source": [
    "#### 3.0 Testing function performance on test words"
   ]
  },
  {
   "cell_type": "code",
   "execution_count": 13,
   "id": "7159e71a-c23b-49fa-9305-8be03655dfca",
   "metadata": {},
   "outputs": [
    {
     "name": "stdout",
     "output_type": "stream",
     "text": [
      "{'word': 'usually', 'nsyll': 4}\n",
      "{'word': 'amsterdam', 'nsyll': 3}\n",
      "{'word': 'latika', 'nsyll': 3}\n",
      "{'word': 'table', 'nsyll': 2}\n",
      "{'word': 'passing', 'nsyll': 2}\n",
      "{'word': 'contest', 'nsyll': 2}\n",
      "{'word': 'conflict', 'nsyll': 2}\n",
      "{'word': 'construct', 'nsyll': 2}\n",
      "{'word': 'table', 'nsyll': 2}\n",
      "{'word': 'lion', 'nsyll': 2}\n",
      "1.9057884999929229\n"
     ]
    }
   ],
   "source": [
    "word_list = [\"usually\", \"amsterdam\", \"latika\", \"table\", \"passing\", 'contest', 'conflict', 'construct', 'table', 'lion']\n",
    "start_time = time.perf_counter()\n",
    "for word in word_list:\n",
    "    \n",
    "    # syll = syll_functs.syllable_sonority(word)\n",
    "    # syll = syll_functs.syllable_indic(word)\n",
    "    # syll = syll_functs.syllable_hyphen_pyphen(word)\n",
    "    # syll = syll_functs.syllable_hyphen_hyphenate(word)\n",
    "    \n",
    "    # syll = syll_functs.syllable_MLspacysyll(word) #abt 15 mins\n",
    "    # syll = syll_functs.syllable_MLspacynlp(word)\n",
    "    \n",
    "    # syll = syll_functs.n_syllable_basirico(word)\n",
    "    # syll = syll_functs.n_syllable_anonuser1(word)\n",
    "    # syll = syll_functs.n_syllable_abigailb(word)\n",
    "    # syll = syll_functs.n_syllable_hauntninja(word)\n",
    "    # syll = syll_functs.n_syllable_tarunsylco(word)\n",
    "\n",
    "    # syll = syll_functs.n_syllable_cmudict(word)\n",
    "    # syll = syll_functs.n_syllable_syllapy(word)\n",
    "    # syll = syll_functs.n_syllable_syllables(word)\n",
    "    \n",
    "    #syll = syll_functs.n_syllable_MLmeow25(word)\n",
    "    syll = syll_functs.n_syllable_MLbigphone(word)\n",
    "    \n",
    "    print(syll)\n",
    "\n",
    "\n",
    "elapsed_time = time.perf_counter() - start_time\n",
    "print(elapsed_time)"
   ]
  },
  {
   "cell_type": "code",
   "execution_count": 14,
   "id": "87c09543-2df7-4716-b942-6cdd9af5f9a6",
   "metadata": {},
   "outputs": [],
   "source": [
    "# sum(\n",
    "#     1 \n",
    "#     if count_syllables(word) in (sum(1 for p in x if p[-1].isdigit()) for x in pron)\n",
    "# ) / len(cd)\n",
    "# # 0.9073751569397757\n",
    "# cd\n",
    "\n",
    "\n",
    "# from collections import Counter\n",
    "# for word, _ in Counter(nltk.corpus.brown.words()).most_common(1000):\n",
    "#     word = word.lower()\n",
    "#     if word in cd and count_syllables(word) not in (sum(1 for p in x if p[-1].isdigit()) for x in cd[word]):\n",
    "#         print(word)\n",
    "\n",
    "# sono_df = []\n",
    "# for word in cmu_df.word.to_list():\n",
    "#     nsyll = syll_functs.n_syllable_syllapy(word)['nsyll']\n",
    "#     sono_df.append([word,nsyll])\n",
    "# sono_df = pd.DataFrame(sono_df, columns=['word','nsyll_sono'])\n",
    "# sono_df"
   ]
  },
  {
   "cell_type": "markdown",
   "id": "fb8ed8f4-81c1-461f-92f7-866a9ea9570b",
   "metadata": {
    "jp-MarkdownHeadingCollapsed": true
   },
   "source": [
    "#### 3.1 Benchmarking #1 dataset: CMU dictionary"
   ]
  },
  {
   "cell_type": "code",
   "execution_count": 15,
   "id": "ab7e7a42-da45-4c56-832e-6f26a1918241",
   "metadata": {},
   "outputs": [
    {
     "name": "stdout",
     "output_type": "stream",
     "text": [
      "              word  nsyll_cmu\n",
      "0                a          1\n",
      "1               a.          1\n",
      "2           a42128          6\n",
      "3              aaa          3\n",
      "4           aaberg          2\n",
      "...            ...        ...\n",
      "123450        zysk          1\n",
      "123451   zyskowski          3\n",
      "123452    zyuganov          3\n",
      "123453  zyuganov's          3\n",
      "123454     zywicki          3\n",
      "\n",
      "[123455 rows x 2 columns]\n"
     ]
    }
   ],
   "source": [
    "# load the dataset\n",
    "cd = nltk.corpus.cmudict.dict()\n",
    "\n",
    "# Iterate and create a test df to check against\n",
    "cmu_df = []\n",
    "for word, pron in cd.items():\n",
    "    nsyll = max([len([y for y in x if y[-1].isdigit()]) for x in pron])\n",
    "    cmu_df.append([word,nsyll])\n",
    "cmu_df = pd.DataFrame(cmu_df, columns=['word','nsyll_cmu'])\n",
    "\n",
    "# print the dataframe\n",
    "print(cmu_df)"
   ]
  },
  {
   "cell_type": "code",
   "execution_count": 16,
   "id": "7b7f5329",
   "metadata": {},
   "outputs": [
    {
     "name": "stdout",
     "output_type": "stream",
     "text": [
      "Executing function: <function syllable_sonority at 0x0000021B9FA34040>\n",
      "Executing function: <function syllable_indic at 0x0000021BDEBDE8E0>\n",
      "Executing function: <function syllable_hyphen_pyphen at 0x0000021BCF85C360>\n",
      "Executing function: <function syllable_hyphen_hyphenate at 0x0000021BDE888AE0>\n",
      "Executing function: <function n_syllable_basirico at 0x0000021BCF85C180>\n",
      "Executing function: <function n_syllable_anonuser1 at 0x0000021BCD51BC40>\n",
      "Executing function: <function n_syllable_abigailb at 0x0000021BDE88A3E0>\n",
      "Executing function: <function n_syllable_hauntninja at 0x0000021BDE88AC00>\n",
      "Executing function: <function n_syllable_tarunsylco at 0x0000021BDE88B740>\n",
      "Executing function: <function n_syllable_syllapy at 0x0000021BDE88B920>\n",
      "Executing function: <function n_syllable_syllables at 0x0000021BDE88B880>\n",
      "Executing function: <function syllable_MLspacynlp at 0x0000021BDEBDE980>\n",
      "Executing function: <function n_syllable_MLmeow25 at 0x0000021BFEF63CE0>\n",
      "Executing function: <function n_syllable_MLbigphone at 0x0000021B849DAF20>\n",
      "                     function  accuracy  time_seconds\n",
      "13      n_syllable_MLbigphone  0.994192    452.031469\n",
      "12        n_syllable_MLmeow25  0.956357    950.931187\n",
      "7       n_syllable_hauntninja  0.899235      8.770456\n",
      "8       n_syllable_tarunsylco  0.858078      6.676561\n",
      "9          n_syllable_syllapy  0.835673      5.799136\n",
      "6         n_syllable_abigailb  0.827986      5.407216\n",
      "4         n_syllable_basirico  0.815658      5.366538\n",
      "10       n_syllable_syllables  0.787761     10.923719\n",
      "5        n_syllable_anonuser1  0.783379      5.840206\n",
      "0           syllable_sonority  0.751788      7.292713\n",
      "1              syllable_indic  0.751432      9.284419\n",
      "11        syllable_MLspacynlp  0.609356    592.848470\n",
      "3   syllable_hyphen_hyphenate  0.599976      6.787061\n",
      "2      syllable_hyphen_pyphen  0.530039      8.986466\n"
     ]
    }
   ],
   "source": [
    "# list of our syllable functions\n",
    "syllable_functions = [\n",
    "    syll_functs.syllable_sonority, syll_functs.syllable_indic,\n",
    "    syll_functs.syllable_hyphen_pyphen, syll_functs.syllable_hyphen_hyphenate,\n",
    "    \n",
    "    syll_functs.n_syllable_basirico, syll_functs.n_syllable_anonuser1, syll_functs.n_syllable_abigailb, syll_functs.n_syllable_hauntninja, syll_functs.n_syllable_tarunsylco,\n",
    "    syll_functs.n_syllable_syllapy, syll_functs.n_syllable_syllables,\n",
    "\n",
    "    # Same, use any one from below (spaynlp) is faster, syll_functs.syllable_MLspacysyll\n",
    "    syll_functs.syllable_MLspacynlp,\n",
    "    syll_functs.n_syllable_MLmeow25, syll_functs.n_syllable_MLbigphone\n",
    "]\n",
    "\n",
    "# Store results here\n",
    "results = []\n",
    "\n",
    "# Loop through each function\n",
    "for func in syllable_functions:\n",
    "    print(\"Executing function:\", func)\n",
    "    \n",
    "    correct = 0\n",
    "    total = len(cmu_df)\n",
    "    # for timing\n",
    "    start_time = time.perf_counter()\n",
    "\n",
    "    for _, row in cmu_df.iterrows():\n",
    "        word = row['word']\n",
    "        true_count = row['nsyll_cmu']\n",
    "        pred_count = func(word)['nsyll']\n",
    "        if pred_count == true_count:\n",
    "            correct += 1\n",
    "\n",
    "    # for timing\n",
    "    elapsed_time = time.perf_counter() - start_time\n",
    "    \n",
    "    accuracy = correct / total\n",
    "    results.append({\n",
    "        'function': func.__name__,\n",
    "        'accuracy': accuracy,\n",
    "        'time_seconds': elapsed_time\n",
    "    })\n",
    "\n",
    "# Create a results DataFrame\n",
    "results_df = pd.DataFrame(results).sort_values(by='accuracy', ascending=False)\n",
    "print(results_df)\n",
    "results_df.to_csv(\"result_benchmark_cmu.csv\",index=None)"
   ]
  },
  {
   "cell_type": "markdown",
   "id": "fb543e08-79fd-4b55-a3d9-0e2bac8a0502",
   "metadata": {
    "jp-MarkdownHeadingCollapsed": true
   },
   "source": [
    "#### 3.2 Benchmarking #2 dataset: 1-7 syllable words"
   ]
  },
  {
   "cell_type": "code",
   "execution_count": 17,
   "id": "2f308f60-948f-438d-9190-03d55b45dd68",
   "metadata": {},
   "outputs": [
    {
     "name": "stdout",
     "output_type": "stream",
     "text": [
      "                word  nsyll_bench\n",
      "0                the            1\n",
      "1                 of            1\n",
      "2                and            1\n",
      "3                 to            1\n",
      "4                 in            1\n",
      "...              ...          ...\n",
      "9456  unsatisfactory            6\n",
      "9457  respectability            6\n",
      "9458  unintelligible            6\n",
      "9459  reconciliation            6\n",
      "9460   individuality            7\n",
      "\n",
      "[9461 rows x 2 columns]\n"
     ]
    }
   ],
   "source": [
    "# load the dataset\n",
    "all_files = os.listdir(\"benchmarking_dataset\")\n",
    "\n",
    "# Iterate and create a bench_df to check against\n",
    "bench_df = []\n",
    "\n",
    "for file in all_files:\n",
    "    df = pd.read_csv(os.path.join(\"benchmarking_dataset\", file), header=None)\n",
    "    df['nsyll_bench'] = int(file[0])\n",
    "    bench_df.append(df)\n",
    "\n",
    "bench_df = pd.concat(bench_df, ignore_index=True)\n",
    "bench_df.rename(columns={0:'word'}, inplace=True)\n",
    "\n",
    "# print the dataframe\n",
    "print(bench_df)"
   ]
  },
  {
   "cell_type": "code",
   "execution_count": 18,
   "id": "fb7133f8-309a-4767-bba4-7d6e03522da4",
   "metadata": {},
   "outputs": [
    {
     "name": "stdout",
     "output_type": "stream",
     "text": [
      "Executing function: <function syllable_sonority at 0x0000021B9FA34040>\n",
      "Executing function: <function syllable_indic at 0x0000021BDEBDE8E0>\n",
      "Executing function: <function syllable_hyphen_pyphen at 0x0000021BCF85C360>\n",
      "Executing function: <function syllable_hyphen_hyphenate at 0x0000021BDE888AE0>\n",
      "Executing function: <function n_syllable_basirico at 0x0000021BCF85C180>\n",
      "Executing function: <function n_syllable_anonuser1 at 0x0000021BCD51BC40>\n",
      "Executing function: <function n_syllable_abigailb at 0x0000021BDE88A3E0>\n",
      "Executing function: <function n_syllable_hauntninja at 0x0000021BDE88AC00>\n",
      "Executing function: <function n_syllable_tarunsylco at 0x0000021BDE88B740>\n",
      "Executing function: <function n_syllable_syllapy at 0x0000021BDE88B920>\n",
      "Executing function: <function n_syllable_syllables at 0x0000021BDE88B880>\n",
      "Executing function: <function syllable_MLspacynlp at 0x0000021BDEBDE980>\n",
      "Executing function: <function n_syllable_MLmeow25 at 0x0000021BFEF63CE0>\n",
      "Executing function: <function n_syllable_MLbigphone at 0x0000021B849DAF20>\n",
      "                     function  accuracy  time_seconds\n",
      "13      n_syllable_MLbigphone  0.981080    293.939674\n",
      "12        n_syllable_MLmeow25  0.975795     72.877960\n",
      "7       n_syllable_hauntninja  0.944615      0.706522\n",
      "8       n_syllable_tarunsylco  0.901173      0.614709\n",
      "9          n_syllable_syllapy  0.895466      0.606411\n",
      "6         n_syllable_abigailb  0.854138      0.531352\n",
      "11        syllable_MLspacynlp  0.851707     55.402324\n",
      "3   syllable_hyphen_hyphenate  0.841560      0.670713\n",
      "5        n_syllable_anonuser1  0.836909      0.570938\n",
      "4         n_syllable_basirico  0.827291      0.493727\n",
      "1              syllable_indic  0.785329      0.949134\n",
      "10       n_syllable_syllables  0.763450      0.892558\n",
      "0           syllable_sonority  0.742416      0.895310\n",
      "2      syllable_hyphen_pyphen  0.730155      0.498054\n"
     ]
    }
   ],
   "source": [
    "# list of our syllable functions\n",
    "syllable_functions = [\n",
    "    syll_functs.syllable_sonority, syll_functs.syllable_indic,\n",
    "    syll_functs.syllable_hyphen_pyphen, syll_functs.syllable_hyphen_hyphenate,\n",
    "    \n",
    "    syll_functs.n_syllable_basirico, syll_functs.n_syllable_anonuser1, syll_functs.n_syllable_abigailb, syll_functs.n_syllable_hauntninja, syll_functs.n_syllable_tarunsylco,\n",
    "    syll_functs.n_syllable_syllapy, syll_functs.n_syllable_syllables,\n",
    "\n",
    "    # Same, use any one from below (spaynlp) is faster, syll_functs.syllable_MLspacysyll\n",
    "    syll_functs.syllable_MLspacynlp,\n",
    "    syll_functs.n_syllable_MLmeow25, syll_functs.n_syllable_MLbigphone\n",
    "]\n",
    "\n",
    "# Store results here\n",
    "results = []\n",
    "\n",
    "# Loop through each function\n",
    "for func in syllable_functions:\n",
    "    print(\"Executing function:\", func)\n",
    "    \n",
    "    correct = 0\n",
    "    total = len(bench_df)\n",
    "    # for timing\n",
    "    start_time = time.perf_counter()\n",
    "\n",
    "    for _, row in bench_df.iterrows():\n",
    "        word = row['word']\n",
    "        true_count = row['nsyll_bench']\n",
    "        pred_count = func(word)['nsyll']\n",
    "        if pred_count == true_count:\n",
    "            correct += 1\n",
    "\n",
    "    # for timing\n",
    "    elapsed_time = time.perf_counter() - start_time\n",
    "    \n",
    "    accuracy = correct / total\n",
    "    results.append({\n",
    "        'function': func.__name__,\n",
    "        'accuracy': accuracy,\n",
    "        'time_seconds': elapsed_time\n",
    "    })\n",
    "\n",
    "# Create a results DataFrame\n",
    "results_df = pd.DataFrame(results).sort_values(by='accuracy', ascending=False)\n",
    "print(results_df)\n",
    "results_df.to_csv(\"result_benchmark_dataset.csv\",index=None)"
   ]
  },
  {
   "cell_type": "markdown",
   "id": "299765a6-9a17-4e6a-9e84-73ee4e3e8bd6",
   "metadata": {},
   "source": [
    "#### 3.3 Benchmarking selected on PARINDE english"
   ]
  },
  {
   "cell_type": "code",
   "execution_count": null,
   "id": "195b79cb",
   "metadata": {},
   "outputs": [],
   "source": [
    "see syllable_testing_parinde"
   ]
  },
  {
   "cell_type": "markdown",
   "id": "a79b8456",
   "metadata": {},
   "source": [
    "#### Results"
   ]
  },
  {
   "cell_type": "markdown",
   "id": "9a9f3eb9",
   "metadata": {},
   "source": [
    "- For finding number of syllables, Treat CMU dict as gold standard\n",
    "- If not found, then use ML based bigphoney, or use hauntninja for faster computations\n",
    "- For syllabification, use ML based spacy nlp, or use hyphenate for faster computations\n",
    "\n",
    "Sometimes, everything returns wrong, and then use sonority\n"
   ]
  },
  {
   "cell_type": "markdown",
   "id": "4e3f37a4",
   "metadata": {},
   "source": []
  }
 ],
 "metadata": {
  "kernelspec": {
   "display_name": "Python 3 (ipykernel)",
   "language": "python",
   "name": "python3"
  },
  "language_info": {
   "codemirror_mode": {
    "name": "ipython",
    "version": 3
   },
   "file_extension": ".py",
   "mimetype": "text/x-python",
   "name": "python",
   "nbconvert_exporter": "python",
   "pygments_lexer": "ipython3",
   "version": "3.11.8"
  }
 },
 "nbformat": 4,
 "nbformat_minor": 5
}
